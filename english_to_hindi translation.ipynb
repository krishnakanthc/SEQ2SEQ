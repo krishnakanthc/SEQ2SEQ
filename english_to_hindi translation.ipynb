{
 "cells": [
  {
   "cell_type": "code",
   "execution_count": 86,
   "id": "f8c0f051",
   "metadata": {},
   "outputs": [],
   "source": [
    "import pandas as pd\n",
    "import numpy as np\n",
    "import string\n",
    "from  keras.preprocessing.text import Tokenizer"
   ]
  },
  {
   "cell_type": "code",
   "execution_count": 87,
   "id": "7225b543",
   "metadata": {},
   "outputs": [],
   "source": [
    "hindi=pd.read_fwf(r\"D:\\python_programs\\parallel-n\\hindi.txt\",header=None,nrows=10)\n",
    "english=pd.read_fwf(r\"D:\\python_programs\\parallel-n\\english.txt\",header=None,nrows=10)"
   ]
  },
  {
   "cell_type": "code",
   "execution_count": 88,
   "id": "99e382a7",
   "metadata": {},
   "outputs": [],
   "source": [
    "hindi.columns=['text','None']\n",
    "english.columns=['text']"
   ]
  },
  {
   "cell_type": "code",
   "execution_count": 89,
   "id": "ee857a83",
   "metadata": {},
   "outputs": [],
   "source": [
    "def removepuntuation(str):\n",
    "    text_p = \"\".join([char for char in str if char not in string.punctuation])\n",
    "    return text_p \n",
    "hindi['text']=hindi['text'].apply(removepuntuation)\n",
    "english['text']=english['text'].apply(removepuntuation)\n",
    "    \n",
    "    "
   ]
  },
  {
   "cell_type": "code",
   "execution_count": 90,
   "id": "e05b25a4",
   "metadata": {},
   "outputs": [],
   "source": [
    "##hindi_array=np.array(hindi['text'])\n",
    "##english_array=np.array(english['text'])\n",
    "hindi_array=hindi['text']\n",
    "english_array=english['text']"
   ]
  },
  {
   "cell_type": "code",
   "execution_count": 91,
   "id": "e61c2bb0",
   "metadata": {},
   "outputs": [
    {
     "data": {
      "text/plain": [
       "0      अपने अनुप्रयोग को पहुंचनीयता व्यायाम का लाभ दें\n",
       "1                      एक्सेर्साइसर पहुंचनीयता अन्वेषक\n",
       "2                 निचले पटल के लिए डिफोल्ट प्लगइन खाका\n",
       "3                  ऊपरी पटल के लिए डिफोल्ट प्लगइन खाका\n",
       "4    उन प्लगइनों की सूची जिन्हें डिफोल्ट रूप से निष...\n",
       "5                                 अवधि को हाइलाइट रकें\n",
       "6    पहुंचनीय आसंधि नोड को चुनते समय हाइलाइट बक्से ...\n",
       "7                 सीमांत बोर्डर के रंग को हाइलाइट करें\n",
       "8         हाइलाइट किए गए सीमांत का रंग और अपारदर्शिता।\n",
       "9                          भराई के रंग को हाइलाइट करें\n",
       "Name: text, dtype: object"
      ]
     },
     "execution_count": 91,
     "metadata": {},
     "output_type": "execute_result"
    }
   ],
   "source": [
    "hindi_array"
   ]
  },
  {
   "cell_type": "code",
   "execution_count": 92,
   "id": "ea2430e2",
   "metadata": {},
   "outputs": [
    {
     "data": {
      "text/plain": [
       "0       Give your application an accessibility workout\n",
       "1                    Accerciser Accessibility Explorer\n",
       "2       The default plugin layout for the bottom panel\n",
       "3          The default plugin layout for the top panel\n",
       "4       A list of plugins that are disabled by default\n",
       "5                                   Highlight duration\n",
       "6    The duration of the highlight box when selecti...\n",
       "7                               Highlight border color\n",
       "8        The color and opacity of the highlight border\n",
       "9                                 Highlight fill color\n",
       "Name: text, dtype: object"
      ]
     },
     "execution_count": 92,
     "metadata": {},
     "output_type": "execute_result"
    }
   ],
   "source": [
    "english_array"
   ]
  },
  {
   "cell_type": "code",
   "execution_count": 93,
   "id": "7fd9f125",
   "metadata": {},
   "outputs": [],
   "source": [
    "tokenizer_hindi=Tokenizer(num_words=100)\n",
    "tokenizer_hindi.fit_on_texts(hindi_array)\n",
    "hindi_array=tokenizer_hindi.texts_to_sequences(hindi_array)\n",
    "hindi_vocab=len(tokenizer_hindi.word_index)+1"
   ]
  },
  {
   "cell_type": "code",
   "execution_count": 103,
   "id": "85e0b909",
   "metadata": {},
   "outputs": [
    {
     "data": {
      "text/plain": [
       "[[16, 17, 1, 6, 18, 7, 19, 20],\n",
       " [21, 6, 22],\n",
       " [23, 8, 3, 9, 4, 10, 11],\n",
       " [24, 8, 3, 9, 4, 10, 11],\n",
       " [25, 26, 12, 27, 28, 4, 29, 30, 31, 32, 33, 34],\n",
       " [13, 1, 2, 35],\n",
       " [36, 37, 38, 1, 39, 40, 2, 41, 12, 13],\n",
       " [14, 42, 3, 5, 1, 2, 15],\n",
       " [2, 43, 44, 14, 7, 5, 45, 46],\n",
       " [47, 3, 5, 1, 2, 15]]"
      ]
     },
     "execution_count": 103,
     "metadata": {},
     "output_type": "execute_result"
    }
   ],
   "source": [
    "hindi_array"
   ]
  },
  {
   "cell_type": "code",
   "execution_count": 95,
   "id": "b1d40758",
   "metadata": {},
   "outputs": [],
   "source": [
    "tokenizer_english=Tokenizer(num_words=100)\n",
    "tokenizer_english.fit_on_texts(english_array)\n",
    "english_array=tokenizer_english.texts_to_sequences(english_array)\n",
    "english_vocab=len(tokenizer_english.word_index)+1"
   ]
  },
  {
   "cell_type": "code",
   "execution_count": 96,
   "id": "5b1ad950",
   "metadata": {},
   "outputs": [
    {
     "data": {
      "text/plain": [
       "[[13, 14, 15, 16, 6, 17],\n",
       " [18, 6, 19],\n",
       " [1, 3, 7, 8, 9, 1, 20, 10],\n",
       " [1, 3, 7, 8, 9, 1, 21, 10],\n",
       " [22, 23, 4, 24, 25, 26, 27, 28, 3],\n",
       " [2, 11],\n",
       " [1, 11, 4, 1, 2, 29, 30, 31, 32, 33],\n",
       " [2, 12, 5],\n",
       " [1, 5, 34, 35, 4, 1, 2, 12],\n",
       " [2, 36, 5]]"
      ]
     },
     "execution_count": 96,
     "metadata": {},
     "output_type": "execute_result"
    }
   ],
   "source": [
    "english_array"
   ]
  },
  {
   "cell_type": "code",
   "execution_count": 97,
   "id": "9b2f4858",
   "metadata": {},
   "outputs": [],
   "source": [
    "from tensorflow.keras.utils import pad_sequences\n",
    "english_sequence=pad_sequences(english_array,padding='post',maxlen=150)\n",
    "hindi_sequence=pad_sequences(hindi_array,padding='post',maxlen=150)\n"
   ]
  },
  {
   "cell_type": "code",
   "execution_count": 98,
   "id": "bee4444d",
   "metadata": {},
   "outputs": [
    {
     "data": {
      "text/plain": [
       "array([[16, 17,  1, ...,  0,  0,  0],\n",
       "       [21,  6, 22, ...,  0,  0,  0],\n",
       "       [23,  8,  3, ...,  0,  0,  0],\n",
       "       ...,\n",
       "       [14, 42,  3, ...,  0,  0,  0],\n",
       "       [ 2, 43, 44, ...,  0,  0,  0],\n",
       "       [47,  3,  5, ...,  0,  0,  0]])"
      ]
     },
     "execution_count": 98,
     "metadata": {},
     "output_type": "execute_result"
    }
   ],
   "source": [
    "hindi_sequence"
   ]
  },
  {
   "cell_type": "code",
   "execution_count": 99,
   "id": "a726f088",
   "metadata": {},
   "outputs": [
    {
     "data": {
      "text/plain": [
       "array([[13, 14, 15, ...,  0,  0,  0],\n",
       "       [18,  6, 19, ...,  0,  0,  0],\n",
       "       [ 1,  3,  7, ...,  0,  0,  0],\n",
       "       ...,\n",
       "       [ 2, 12,  5, ...,  0,  0,  0],\n",
       "       [ 1,  5, 34, ...,  0,  0,  0],\n",
       "       [ 2, 36,  5, ...,  0,  0,  0]])"
      ]
     },
     "execution_count": 99,
     "metadata": {},
     "output_type": "execute_result"
    }
   ],
   "source": [
    "english_sequence"
   ]
  },
  {
   "cell_type": "code",
   "execution_count": null,
   "id": "f875a8c9",
   "metadata": {},
   "outputs": [],
   "source": [
    "model=Sequential()\n",
    "model.add(Embedding(input_dim=english_vocab,output_dim=32,input_length=150,mask_zero=True))\n",
    "model.add(LSTM(64))\n",
    "model.add(RepeatVector(out_timesteps))\n",
    "model.add(LSTM(64,return_sequences=True))\n",
    "model.add(Dense(out_vocab,activation=\"softmax\"))"
   ]
  }
 ],
 "metadata": {
  "kernelspec": {
   "display_name": "Python 3 (ipykernel)",
   "language": "python",
   "name": "python3"
  },
  "language_info": {
   "codemirror_mode": {
    "name": "ipython",
    "version": 3
   },
   "file_extension": ".py",
   "mimetype": "text/x-python",
   "name": "python",
   "nbconvert_exporter": "python",
   "pygments_lexer": "ipython3",
   "version": "3.9.7"
  }
 },
 "nbformat": 4,
 "nbformat_minor": 5
}
